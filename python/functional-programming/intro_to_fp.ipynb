{
 "cells": [
  {
   "cell_type": "markdown",
   "metadata": {
    "slideshow": {
     "slide_type": "slide"
    }
   },
   "source": [
    "# Functional Programming (FP) in Python\n",
    "Programming paradigms supported by Python\n",
    "- Object Oriented\n",
    "- Procedural\n",
    "- Imperative\n",
    "- Functional"
   ]
  },
  {
   "cell_type": "markdown",
   "metadata": {
    "slideshow": {
     "slide_type": "slide"
    }
   },
   "source": [
    "## What is it and why do I care?\n",
    "\n",
    "[Wikipedia](https://en.wikipedia.org/wiki/Functional_programming) - In computer science, functional programming is a programming paradigm — a style of building the structure and elements of computer programs—that treats computation as the evaluation of mathematical functions and *avoids changing-state and mutable data*.\n",
    "\n",
    "- Very testable\n",
    "- Easier to make concurrent"
   ]
  },
  {
   "cell_type": "markdown",
   "metadata": {
    "slideshow": {
     "slide_type": "slide"
    }
   },
   "source": [
    "# One example, four paradigms"
   ]
  },
  {
   "cell_type": "code",
   "execution_count": 25,
   "metadata": {
    "slideshow": {
     "slide_type": "subslide"
    }
   },
   "outputs": [
    {
     "data": {
      "text/plain": [
       "15"
      ]
     },
     "execution_count": 25,
     "metadata": {},
     "output_type": "execute_result"
    }
   ],
   "source": [
    "# Object Oriented\n",
    "my_data = [1, 2, 3, 4, 5]\n",
    "\n",
    "class MyList:\n",
    "    def __init__(self, data):\n",
    "        self.data = data\n",
    "        self.sum = 0\n",
    "\n",
    "    def calculate_summation(self):\n",
    "        self.sum = sum(self.data)\n",
    "        \n",
    "# Driver code\n",
    "my_list = MyList(my_data)\n",
    "my_list.calculate_summation()\n",
    "my_list.sum"
   ]
  },
  {
   "cell_type": "code",
   "execution_count": 12,
   "metadata": {
    "slideshow": {
     "slide_type": "subslide"
    }
   },
   "outputs": [
    {
     "data": {
      "text/plain": [
       "15"
      ]
     },
     "execution_count": 12,
     "metadata": {},
     "output_type": "execute_result"
    }
   ],
   "source": [
    "# Procedural\n",
    "my_data = [1, 2, 3, 4, 5]\n",
    "\n",
    "def summation(nums):\n",
    "    total = 0\n",
    "    for num in nums:\n",
    "        total += num\n",
    "    return total\n",
    "\n",
    "summation(my_data)"
   ]
  },
  {
   "cell_type": "code",
   "execution_count": 13,
   "metadata": {
    "slideshow": {
     "slide_type": "subslide"
    }
   },
   "outputs": [
    {
     "data": {
      "text/plain": [
       "15"
      ]
     },
     "execution_count": 13,
     "metadata": {},
     "output_type": "execute_result"
    }
   ],
   "source": [
    "# Imperative\n",
    "nums = [1, 2, 3, 4, 5]\n",
    "total = 0\n",
    "\n",
    "for num in nums:\n",
    "    total += num\n",
    "\n",
    "total"
   ]
  },
  {
   "cell_type": "code",
   "execution_count": 12,
   "metadata": {
    "slideshow": {
     "slide_type": "subslide"
    }
   },
   "outputs": [
    {
     "data": {
      "text/plain": [
       "15"
      ]
     },
     "execution_count": 12,
     "metadata": {},
     "output_type": "execute_result"
    }
   ],
   "source": [
    "# Functional\n",
    "import functools\n",
    "\n",
    "my_data = [1, 2, 3, 4, 5]\n",
    "\n",
    "def summation(nums):\n",
    "    return functools.reduce(lambda x, y: x + y, nums)\n",
    "\n",
    "summation(my_data)"
   ]
  },
  {
   "cell_type": "markdown",
   "metadata": {
    "slideshow": {
     "slide_type": "slide"
    }
   },
   "source": [
    "## FP Concepts in Python\n",
    "- Recursion\n",
    "- Functions as first class citizens!\n",
    "- closures\n",
    "- list and dictionary comprehensions\n",
    "- lazy vs eager evaluation\n",
    "- lambda (annonymous functions)\n",
    "- pure functions"
   ]
  },
  {
   "cell_type": "markdown",
   "metadata": {
    "slideshow": {
     "slide_type": "slide"
    }
   },
   "source": [
    "# Functions as first class citizens (Higher Order Functions)"
   ]
  },
  {
   "cell_type": "code",
   "execution_count": 1,
   "metadata": {
    "slideshow": {
     "slide_type": "subslide"
    }
   },
   "outputs": [
    {
     "data": {
      "text/plain": [
       "[1, 4, 9, 16, 25]"
      ]
     },
     "execution_count": 1,
     "metadata": {},
     "output_type": "execute_result"
    }
   ],
   "source": [
    "# Passing function as argument\n",
    "def square(x):\n",
    "    \"\"\"Calculates the square of a given number.\"\"\"\n",
    "    return x ** 2\n",
    "\n",
    "def apply(f, iterable):\n",
    "    \"\"\"Applies a function f to every element in the provided iterable.\"\"\"\n",
    "    result = []\n",
    "    for it in iterable:\n",
    "        result.append(f(it))\n",
    "    return result\n",
    "\n",
    "apply(square, [1, 2, 3, 4, 5])"
   ]
  },
  {
   "cell_type": "code",
   "execution_count": 2,
   "metadata": {
    "slideshow": {
     "slide_type": "subslide"
    }
   },
   "outputs": [
    {
     "data": {
      "text/plain": [
       "'Hello World!'"
      ]
     },
     "execution_count": 2,
     "metadata": {},
     "output_type": "execute_result"
    }
   ],
   "source": [
    "# Function that returns a function\n",
    "def create_greeting(greeting):\n",
    "    def greet(name):\n",
    "        return \"{} {}\".format(greeting, name)\n",
    "    return greet\n",
    "\n",
    "say_hello = create_greeting(\"Hello\")\n",
    "\n",
    "say_hello(\"World!\")"
   ]
  },
  {
   "cell_type": "markdown",
   "metadata": {
    "slideshow": {
     "slide_type": "subslide"
    }
   },
   "source": [
    "![Entertainment](http://www.quickmeme.com/img/a2/a259c0fd97091dcfb96399f54c4bde40e99a88bd071232715033a8d7d1b45fcc.jpg)"
   ]
  },
  {
   "cell_type": "markdown",
   "metadata": {
    "slideshow": {
     "slide_type": "slide"
    }
   },
   "source": [
    "# Closure\n",
    "**Theory:** A record storing a function with the mapping associating each free variable with its value or reference.\n",
    "\n",
    "**English:** A function and the variables in its scope."
   ]
  },
  {
   "cell_type": "code",
   "execution_count": 4,
   "metadata": {
    "slideshow": {
     "slide_type": "subslide"
    }
   },
   "outputs": [
    {
     "data": {
      "text/plain": [
       "10"
      ]
     },
     "execution_count": 4,
     "metadata": {},
     "output_type": "execute_result"
    }
   ],
   "source": [
    "\"\"\"Contrived Example.\"\"\"\n",
    "def adder(x):\n",
    "    def _add(y):\n",
    "        return x + y\n",
    "    return _add\n",
    "\n",
    "add_five = adder(5)\n",
    "add_five(5)"
   ]
  },
  {
   "cell_type": "code",
   "execution_count": null,
   "metadata": {
    "collapsed": true,
    "slideshow": {
     "slide_type": "subslide"
    }
   },
   "outputs": [],
   "source": [
    "\"\"\"Real World Example.\n",
    "\n",
    "We have some I/O bound operation so we want to use a threadpool\n",
    "to process this work.\n",
    "\"\"\"\n",
    "import logging\n",
    "import queue\n",
    "import time\n",
    "from concurrent.futures import ThreadPoolExecutor\n",
    "\n",
    "\n",
    "def done(logger, queue):\n",
    "    # Our closure keeps the value of our logger\n",
    "    # and queue inside of the _done function below\n",
    "    def _done(func):\n",
    "        if func.cancelled():\n",
    "            logger.info(f'Oh no a future has been cancelled')\n",
    "        elif func.done():\n",
    "            error = func.exception()\n",
    "            if error:\n",
    "                logger.info(f'Oh no a future has return an error: {error}')\n",
    "            else:\n",
    "                queue.put(func.result())\n",
    "    return _done\n",
    "\n",
    "\n",
    "def bamboozle(duration):\n",
    "    print(\"Muhahaha. You have been bamboozled for {}!\".format(duration))\n",
    "    time.sleep(duration)\n",
    "    return duration\n",
    "\n",
    "\n",
    "durations = [1, 2, 3, 2, 1, 5]\n",
    "results_queue = queue.Queue(maxsize=len(durations))\n",
    "executor = ThreadPoolExecutor(max_workers=5)\n",
    "queue_logger = logging.getLogger(\"example\")\n",
    "done_callback = done(queue_logger, results_queue)\n",
    "\n",
    "for duration in durations:\n",
    "    future = executor.submit(bamboozle, duration)\n",
    "    future.add_done_callback(done_callback)\n",
    "    \n",
    "while True:\n",
    "    if results_queue.full():\n",
    "        print('Finished bamboozling')\n",
    "        break\n",
    "\n",
    "\n",
    "executor.shutdown()"
   ]
  },
  {
   "cell_type": "markdown",
   "metadata": {
    "slideshow": {
     "slide_type": "slide"
    }
   },
   "source": [
    "# Lazy vs eager evaluation and list/dictionary comprehensions\n",
    "\n",
    "```python\n",
    "def lazy_numbers(n):\n",
    "    num = 0\n",
    "    while num < n:\n",
    "        yield num\n",
    "        num += 1\n",
    "```\n",
    "\n",
    "\n",
    "```python\n",
    "def eager_numbers(n):\n",
    "    nums = []\n",
    "    while num < n:\n",
    "        nums.append(n)\n",
    "        n += 1\n",
    "    return nums\n",
    "```\n",
    "\n",
    "## Questions\n",
    "- What is this yield keyword?\n",
    "- What is the difference between the lazy and eager examples here?\n",
    "- What happens if n is REALLY big?\n",
    "- What if each element in the list is REALLY big?"
   ]
  },
  {
   "cell_type": "code",
   "execution_count": 20,
   "metadata": {
    "slideshow": {
     "slide_type": "subslide"
    }
   },
   "outputs": [
    {
     "name": "stdout",
     "output_type": "stream",
     "text": [
      "<class 'list'>\n",
      "<class 'generator'>\n",
      "<class 'dict'>\n"
     ]
    }
   ],
   "source": [
    "# Comprehensions\n",
    "\n",
    "# List\n",
    "def nats_list(n):\n",
    "    return [i for i in range(n)]\n",
    "\n",
    "# Generator\n",
    "def nats_gen(n):\n",
    "    return (i for i in range(n))\n",
    "\n",
    "# Dictionary\n",
    "def nats_to_square(n):\n",
    "    \"\"\"Maps first n integers (0 indexed) to their square.\"\"\"\n",
    "    return {i: i ** 2 for i in range(n)}\n",
    "\n",
    "\n",
    "print(type(nats_list(5)))\n",
    "print(type(nats_gen(5)))\n",
    "print(type(nats_to_square(5)))"
   ]
  },
  {
   "cell_type": "code",
   "execution_count": 21,
   "metadata": {
    "collapsed": true,
    "slideshow": {
     "slide_type": "subslide"
    }
   },
   "outputs": [],
   "source": [
    "# Using If-Condition\n",
    "def evens_list(n):\n",
    "    return [i for i in range(n) if i % 2 == 0]\n",
    "\n",
    "\n",
    "def events_gen(n):\n",
    "    return (i for i in range(n) if i % 2 == 0)"
   ]
  },
  {
   "cell_type": "code",
   "execution_count": 13,
   "metadata": {
    "slideshow": {
     "slide_type": "notes"
    }
   },
   "outputs": [
    {
     "data": {
      "text/plain": [
       "'lazy_numbers is an example of a generator in Python.\\n\\n`yield` keyword suspends function execution and returns the current value back to the caller.\\nPython saves the enough information i.e. the stack frame so it can pick up where it left off in the yielding function.\\n\\nAll of eager_numbers is being written into memory which for large n or large elements in your list,\\nmeans it can consume more memory that you would like.\\n'"
      ]
     },
     "execution_count": 13,
     "metadata": {},
     "output_type": "execute_result"
    }
   ],
   "source": [
    "\"\"\"lazy_numbers is an example of a generator in Python.\n",
    "\n",
    "`yield` keyword suspends function execution and returns the current value back to the caller.\n",
    "Python saves the enough information i.e. the stack frame so it can pick up where it left off in the yielding function.\n",
    "\n",
    "All of eager_numbers is being written into memory which for large n or large elements in your list,\n",
    "means it can consume more memory that you would like.\n",
    "\"\"\""
   ]
  },
  {
   "cell_type": "code",
   "execution_count": null,
   "metadata": {
    "collapsed": true
   },
   "outputs": [],
   "source": []
  }
 ],
 "metadata": {
  "celltoolbar": "Slideshow",
  "kernelspec": {
   "display_name": "Python 3",
   "language": "python",
   "name": "python3"
  },
  "language_info": {
   "codemirror_mode": {
    "name": "ipython",
    "version": 3
   },
   "file_extension": ".py",
   "mimetype": "text/x-python",
   "name": "python",
   "nbconvert_exporter": "python",
   "pygments_lexer": "ipython3",
   "version": "3.6.5"
  }
 },
 "nbformat": 4,
 "nbformat_minor": 2
}
